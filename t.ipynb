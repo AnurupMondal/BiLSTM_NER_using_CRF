{
 "cells": [
  {
   "cell_type": "code",
   "execution_count": 5,
   "metadata": {},
   "outputs": [
    {
     "name": "stderr",
     "output_type": "stream",
     "text": [
      "C:\\Users\\anuru\\AppData\\Local\\Temp\\ipykernel_1452\\1825841840.py:4: FutureWarning: You are using `torch.load` with `weights_only=False` (the current default value), which uses the default pickle module implicitly. It is possible to construct malicious pickle data which will execute arbitrary code during unpickling (See https://github.com/pytorch/pytorch/blob/main/SECURITY.md#untrusted-models for more details). In a future release, the default value for `weights_only` will be flipped to `True`. This limits the functions that could be executed during unpickling. Arbitrary objects will no longer be allowed to be loaded via this mode unless they are explicitly allowlisted by the user via `torch.serialization.add_safe_globals`. We recommend you start setting `weights_only=True` for any use case where you don't have full control of the loaded file. Please open an issue on GitHub for any issues related to this experimental feature.\n",
      "  state_dict = torch.load('model_backup.pth', map_location=torch.device('cpu'))\n"
     ]
    },
    {
     "ename": "KeyError",
     "evalue": "'crf.transitions'",
     "output_type": "error",
     "traceback": [
      "\u001b[1;31m---------------------------------------------------------------------------\u001b[0m",
      "\u001b[1;31mKeyError\u001b[0m                                  Traceback (most recent call last)",
      "Cell \u001b[1;32mIn[5], line 7\u001b[0m\n\u001b[0;32m      4\u001b[0m state_dict \u001b[38;5;241m=\u001b[39m torch\u001b[38;5;241m.\u001b[39mload(\u001b[38;5;124m'\u001b[39m\u001b[38;5;124mmodel_backup.pth\u001b[39m\u001b[38;5;124m'\u001b[39m, map_location\u001b[38;5;241m=\u001b[39mtorch\u001b[38;5;241m.\u001b[39mdevice(\u001b[38;5;124m'\u001b[39m\u001b[38;5;124mcpu\u001b[39m\u001b[38;5;124m'\u001b[39m))\n\u001b[0;32m      6\u001b[0m \u001b[38;5;66;03m# Update the key names in the state_dict to match those expected by the current CRF layer\u001b[39;00m\n\u001b[1;32m----> 7\u001b[0m state_dict[\u001b[38;5;124m\"\u001b[39m\u001b[38;5;124mcrf.trans_matrix\u001b[39m\u001b[38;5;124m\"\u001b[39m] \u001b[38;5;241m=\u001b[39m \u001b[43mstate_dict\u001b[49m\u001b[38;5;241;43m.\u001b[39;49m\u001b[43mpop\u001b[49m\u001b[43m(\u001b[49m\u001b[38;5;124;43m\"\u001b[39;49m\u001b[38;5;124;43mcrf.transitions\u001b[39;49m\u001b[38;5;124;43m\"\u001b[39;49m\u001b[43m)\u001b[49m\n\u001b[0;32m      8\u001b[0m state_dict[\u001b[38;5;124m\"\u001b[39m\u001b[38;5;124mcrf.start_trans\u001b[39m\u001b[38;5;124m\"\u001b[39m] \u001b[38;5;241m=\u001b[39m state_dict\u001b[38;5;241m.\u001b[39mpop(\u001b[38;5;124m\"\u001b[39m\u001b[38;5;124mcrf.start_transitions\u001b[39m\u001b[38;5;124m\"\u001b[39m)\n\u001b[0;32m      9\u001b[0m state_dict[\u001b[38;5;124m\"\u001b[39m\u001b[38;5;124mcrf.end_trans\u001b[39m\u001b[38;5;124m\"\u001b[39m] \u001b[38;5;241m=\u001b[39m state_dict\u001b[38;5;241m.\u001b[39mpop(\u001b[38;5;124m\"\u001b[39m\u001b[38;5;124mcrf.end_transitions\u001b[39m\u001b[38;5;124m\"\u001b[39m)\n",
      "\u001b[1;31mKeyError\u001b[0m: 'crf.transitions'"
     ]
    }
   ],
   "source": [
    "import torch\n",
    "from model import BiLSTM_CRF\n",
    "# Load the model's state_dict\n",
    "state_dict = torch.load('model_backup.pth', map_location=torch.device('cpu'))\n",
    "\n",
    "# Update the key names in the state_dict to match those expected by the current CRF layer\n",
    "state_dict[\"crf.trans_matrix\"] = state_dict.pop(\"crf.transitions\")\n",
    "state_dict[\"crf.start_trans\"] = state_dict.pop(\"crf.start_transitions\")\n",
    "state_dict[\"crf.end_trans\"] = state_dict.pop(\"crf.end_transitions\")\n",
    "\n",
    "# Save the updated state_dict back to the file (optional if you want to overwrite)\n",
    "torch.save(state_dict, 'model_backup.pth')\n",
    "\n",
    "# Load the updated state_dict into the model\n",
    "model = BiLSTM_CRF(vocab_size, tagset_size)\n",
    "model.load_state_dict(state_dict, weights_only=True)\n",
    "model.eval()"
   ]
  },
  {
   "cell_type": "code",
   "execution_count": 1,
   "metadata": {},
   "outputs": [],
   "source": [
    "import torch\n",
    "import TorchCRF"
   ]
  }
 ],
 "metadata": {
  "kernelspec": {
   "display_name": ".venv",
   "language": "python",
   "name": "python3"
  },
  "language_info": {
   "codemirror_mode": {
    "name": "ipython",
    "version": 3
   },
   "file_extension": ".py",
   "mimetype": "text/x-python",
   "name": "python",
   "nbconvert_exporter": "python",
   "pygments_lexer": "ipython3",
   "version": "3.10.0"
  }
 },
 "nbformat": 4,
 "nbformat_minor": 2
}
